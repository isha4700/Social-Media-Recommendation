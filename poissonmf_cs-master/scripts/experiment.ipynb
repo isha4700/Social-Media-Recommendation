{
 "cells": [
  {
   "cell_type": "code",
   "execution_count": 3,
   "metadata": {
    "collapsed": true
   },
   "outputs": [],
   "source": [
    "import pandas as pd\n",
    "import numpy as np\n",
    "import scipy as sp"
   ]
  },
  {
   "cell_type": "code",
   "execution_count": 1,
   "metadata": {
    "collapsed": false
   },
   "outputs": [],
   "source": [
    "datafolder = '/home/eliezer/datasets/hetrec2011/lastfm/'\n",
    "from TopicSPF import ContentSocialPoissonMF\n",
    "cspmf = ContentSocialPoissonMF()"
   ]
  },
  {
   "cell_type": "code",
   "execution_count": 4,
   "metadata": {
    "collapsed": false
   },
   "outputs": [],
   "source": [
    "userfriends = np.loadtxt(datafolder+\"user_friends.dat\", delimiter='\\t',skiprows=1,dtype=int)\n",
    "userartists = np.loadtxt(datafolder+\"user_artists.dat\", delimiter='\\t',skiprows=1,dtype=int)\n",
    "ua_tag = np.loadtxt(datafolder+\"user_taggedartists.dat\", delimiter='\\t',skiprows=1,dtype=int)\n",
    "\n",
    "artists_id = np.unique(userartists[:,1])\n",
    "users_id = np.unique(userartists[:,0])"
   ]
  },
  {
   "cell_type": "code",
   "execution_count": 8,
   "metadata": {
    "collapsed": false
   },
   "outputs": [],
   "source": [
    "artists_inv_id=dict(zip(artists_id,xrange(len(artists_id))))\n",
    "users_inv_id=dict(zip(users_id,xrange(len(users_id))))"
   ]
  },
  {
   "cell_type": "code",
   "execution_count": 9,
   "metadata": {
    "collapsed": false
   },
   "outputs": [],
   "source": [
    "### gera a lista de amigos usando o indice do array e nao o id que veio do sistema\n",
    "list_friends_id= [ [users_inv_id[friend_id] for friend_id in userfriends[userfriends[:,0]==u_id][:,1]] for u_id in users_id]\n",
    "\n",
    "### pegar o indice de todas as tags de um artista\n",
    "artists_tags_id= [ ua_tag[ua_tag[:,1]==a_id][:,2] for a_id in artists_id ]"
   ]
  },
  {
   "cell_type": "code",
   "execution_count": 10,
   "metadata": {
    "collapsed": false
   },
   "outputs": [
    {
     "name": "stdout",
     "output_type": "stream",
     "text": [
      "[257, 400, 482, 709, 772, 838, 1102, 1103, 1121, 1203, 1431, 1466, 1689]\n",
      "[ 552 1219  139  141 2850  139  141  179  541  139  141  179  541  139  139]\n"
     ]
    }
   ],
   "source": [
    "print list_friends_id[0]\n",
    "print artists_tags_id[0]"
   ]
  },
  {
   "cell_type": "code",
   "execution_count": 11,
   "metadata": {
    "collapsed": false
   },
   "outputs": [],
   "source": [
    "tags=pd.read_csv(datafolder+\"tags.dat\", sep='\\t')\n",
    "tags_id = tags['tagID'].get_values()\n",
    "map_tag_id_name=dict(zip(tags['tagID'].get_values(),map(str,tags['tagValue'].get_values())))\n",
    "map_tag_name_id=dict(zip(map(str,tags['tagValue'].get_values()),tags['tagID'].get_values()))"
   ]
  },
  {
   "cell_type": "code",
   "execution_count": 12,
   "metadata": {
    "collapsed": false
   },
   "outputs": [],
   "source": [
    "generate_artists_tags = lambda lst_tags_id: [val.replace(\"-\",\"\") for x in lst_tags_id for val in map_tag_id_name[x].split()]"
   ]
  },
  {
   "cell_type": "code",
   "execution_count": 13,
   "metadata": {
    "collapsed": false
   },
   "outputs": [
    {
     "data": {
      "text/plain": [
       "['electroindustrial',\n",
       " 'ebm',\n",
       " 'dark',\n",
       " 'electro',\n",
       " 'industrial',\n",
       " 'dark',\n",
       " 'electro',\n",
       " 'industrial',\n",
       " 'ebm',\n",
       " 'dark',\n",
       " 'electro',\n",
       " 'electroindustrial',\n",
       " 'industrial',\n",
       " 'ebm',\n",
       " 'ebm',\n",
       " 'dark',\n",
       " 'electro',\n",
       " 'electronic',\n",
       " 'industrial',\n",
       " 'dark',\n",
       " 'electro',\n",
       " 'harsh',\n",
       " 'ebm',\n",
       " 'ebm',\n",
       " 'friends',\n",
       " 'industrial',\n",
       " 'ebm',\n",
       " 'aggrotech']"
      ]
     },
     "execution_count": 13,
     "metadata": {},
     "output_type": "execute_result"
    }
   ],
   "source": [
    "generate_artists_tags(artists_tags_id[12])"
   ]
  },
  {
   "cell_type": "code",
   "execution_count": 60,
   "metadata": {
    "collapsed": true
   },
   "outputs": [],
   "source": [
    "tags_inv_id = dict(zip(tags_id, xrange(len(tags_id))))"
   ]
  },
  {
   "cell_type": "code",
   "execution_count": 26,
   "metadata": {
    "collapsed": true
   },
   "outputs": [],
   "source": [
    "n_wd_tags_entries=sum(len(x) for x in artists_tags_id)\n",
    "n_ratings = userartists.size\n",
    "n_neighbors = max(len(x) for x in list_friends_id)\n",
    "n_words=tags_id.size\n",
    "n_user=users_id.size\n",
    "n_item=artists_id.size\n"
   ]
  },
  {
   "cell_type": "code",
   "execution_count": 25,
   "metadata": {
    "collapsed": false
   },
   "outputs": [
    {
     "name": "stdout",
     "output_type": "stream",
     "text": [
      "n_words= 11946\n",
      "n_user= 1892\n",
      "n_item= 17632\n",
      "n_neighbors= 119\n",
      "n_wd_tags_entries= 184941\n",
      "n_ratings= 278502\n"
     ]
    }
   ],
   "source": [
    "\n",
    "print \"n_words=\",n_words\n",
    "print \"n_user=\",n_user\n",
    "print \"n_item=\",n_item\n",
    "print \"n_neighbors=\",n_neighbors\n",
    "print \"n_wd_tags_entries=\",n_wd_tags_entries\n",
    "print \"n_ratings=\",n_ratings"
   ]
  },
  {
   "cell_type": "code",
   "execution_count": 36,
   "metadata": {
    "collapsed": false
   },
   "outputs": [
    {
     "name": "stdout",
     "output_type": "stream",
     "text": [
      "memory usage (floats) =  3.65802052617  GB\n"
     ]
    }
   ],
   "source": [
    "k=100\n",
    "memoryusage=k*(3*n_words+6*n_item+3*n_user+4+2*n_ratings+n_wd_tags_entries)+n_neighbors*(3*n_user+n_ratings+1)\n",
    "print \"memory usage (floats) = \",(memoryusage*32.0)/(2**30),\" GB\""
   ]
  },
  {
   "cell_type": "code",
   "execution_count": 37,
   "metadata": {
    "collapsed": false
   },
   "outputs": [
    {
     "data": {
      "text/plain": [
       "3927769632.0"
      ]
     },
     "execution_count": 37,
     "metadata": {},
     "output_type": "execute_result"
    }
   ],
   "source": [
    "memoryusage*32.0"
   ]
  },
  {
   "cell_type": "code",
   "execution_count": 35,
   "metadata": {
    "collapsed": false
   },
   "outputs": [
    {
     "data": {
      "text/plain": [
       "3927769600.0"
      ]
     },
     "execution_count": 35,
     "metadata": {},
     "output_type": "execute_result"
    }
   ],
   "source": [
    "122742800*32.0"
   ]
  },
  {
   "cell_type": "code",
   "execution_count": null,
   "metadata": {
    "collapsed": false
   },
   "outputs": [
    {
     "name": "stdout",
     "output_type": "stream",
     "text": [
      "train percentage =  80.0\n"
     ]
    }
   ],
   "source": [
    "datafolder = '/home/eliezer/datasets/hetrec2011/lastfm/'\n",
    "from experiment_util import LoadLastFM\n",
    "loader=LoadLastFM(datafolder)\n",
    "loader.load()"
   ]
  },
  {
   "cell_type": "code",
   "execution_count": 5,
   "metadata": {
    "collapsed": false
   },
   "outputs": [
    {
     "ename": "NameError",
     "evalue": "name 'plt' is not defined",
     "output_type": "error",
     "traceback": [
      "\u001b[0;31m\u001b[0m",
      "\u001b[0;31mNameError\u001b[0mTraceback (most recent call last)",
      "\u001b[0;32m<ipython-input-5-40341a4ce73c>\u001b[0m in \u001b[0;36m<module>\u001b[0;34m()\u001b[0m\n\u001b[0;32m----> 1\u001b[0;31m \u001b[0mplt\u001b[0m\u001b[0;34m.\u001b[0m\u001b[0mhist\u001b[0m\u001b[0;34m(\u001b[0m\u001b[0;34m[\u001b[0m\u001b[0mlen\u001b[0m\u001b[0;34m(\u001b[0m\u001b[0muserartists\u001b[0m\u001b[0;34m[\u001b[0m\u001b[0muserartists\u001b[0m\u001b[0;34m[\u001b[0m\u001b[0;34m:\u001b[0m\u001b[0;34m,\u001b[0m\u001b[0;36m0\u001b[0m\u001b[0;34m]\u001b[0m\u001b[0;34m==\u001b[0m\u001b[0midx\u001b[0m\u001b[0;34m]\u001b[0m\u001b[0;34m)\u001b[0m \u001b[0;32mfor\u001b[0m \u001b[0midx\u001b[0m \u001b[0;32min\u001b[0m \u001b[0mnp\u001b[0m\u001b[0;34m.\u001b[0m\u001b[0munique\u001b[0m\u001b[0;34m(\u001b[0m\u001b[0muserartists\u001b[0m\u001b[0;34m[\u001b[0m\u001b[0;34m:\u001b[0m\u001b[0;34m,\u001b[0m\u001b[0;36m0\u001b[0m\u001b[0;34m]\u001b[0m\u001b[0;34m)\u001b[0m\u001b[0;34m]\u001b[0m\u001b[0;34m)\u001b[0m\u001b[0;34m\u001b[0m\u001b[0m\n\u001b[0m",
      "\u001b[0;31mNameError\u001b[0m: name 'plt' is not defined"
     ]
    }
   ],
   "source": [
    "plt.hist([len(userartists[userartists[:,0]==idx]) for idx in np.unique(userartists[:,0])])\n"
   ]
  },
  {
   "cell_type": "code",
   "execution_count": 40,
   "metadata": {
    "collapsed": true
   },
   "outputs": [],
   "source": []
  },
  {
   "cell_type": "code",
   "execution_count": null,
   "metadata": {
    "collapsed": true
   },
   "outputs": [],
   "source": []
  },
  {
   "cell_type": "code",
   "execution_count": null,
   "metadata": {
    "collapsed": true
   },
   "outputs": [],
   "source": []
  }
 ],
 "metadata": {
  "kernelspec": {
   "display_name": "Python 2",
   "language": "python",
   "name": "python2"
  },
  "language_info": {
   "codemirror_mode": {
    "name": "ipython",
    "version": 2
   },
   "file_extension": ".py",
   "mimetype": "text/x-python",
   "name": "python",
   "nbconvert_exporter": "python",
   "pygments_lexer": "ipython2",
   "version": "2.7.6"
  }
 },
 "nbformat": 4,
 "nbformat_minor": 0
}
