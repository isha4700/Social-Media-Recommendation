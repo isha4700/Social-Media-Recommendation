{
 "cells": [
  {
   "cell_type": "code",
   "execution_count": 10,
   "metadata": {
    "collapsed": true
   },
   "outputs": [],
   "source": [
    "import pandas as pd\n",
    "import numpy as np\n",
    "import experiment_util as exper"
   ]
  },
  {
   "cell_type": "code",
   "execution_count": 122,
   "metadata": {
    "collapsed": false
   },
   "outputs": [],
   "source": [
    "datafolder = '/home/eliezer/Dropbox/repo-phd/poissoncpp/datasets/hetrec2011/lastfm/'\n",
    "userfriends = np.loadtxt(datafolder+\"user_friends.dat\", delimiter='\\t',skiprows=1,dtype=int)\n",
    "userartists = np.loadtxt(datafolder+\"user_artists.dat\", delimiter='\\t',skiprows=1,dtype=int)\n",
    "ua_tag = np.loadtxt(datafolder+\"user_taggedartists.dat\", delimiter='\\t',skiprows=1,dtype=int)\n",
    "\n",
    "artists_id = np.unique(userartists[:,1])\n",
    "users_id = np.unique(userartists[:,0])\n",
    "max_rating_users=np.array([np.max(userartists[userartists[:,0]==x,2]) for x in users_id])\n"
   ]
  },
  {
   "cell_type": "code",
   "execution_count": 123,
   "metadata": {
    "collapsed": true
   },
   "outputs": [],
   "source": [
    "artists_inv_id=dict(zip(artists_id,xrange(len(artists_id))))\n",
    "users_inv_id=dict(zip(users_id,xrange(len(users_id))))"
   ]
  },
  {
   "cell_type": "code",
   "execution_count": 124,
   "metadata": {
    "collapsed": true
   },
   "outputs": [],
   "source": [
    "### gera a lista de amigos usando o indice do array e nao o id que veio do sistema\n",
    "list_friends_id= [ [users_inv_id[friend_id] for friend_id in userfriends[userfriends[:,0]==u_id][:,1]]\\\n",
    "                  for u_id in users_id]\n",
    "\n",
    "### pegar o indice de todas as tags de um artista\n",
    "artists_tags_id= [ ua_tag[ua_tag[:,1]==a_id][:,2] for a_id in artists_id ]"
   ]
  },
  {
   "cell_type": "code",
   "execution_count": 125,
   "metadata": {
    "collapsed": false
   },
   "outputs": [],
   "source": [
    "temp=np.apply_along_axis( lambda x:[users_inv_id[x[0]],artists_inv_id[x[1]],int(np.ceil(np.log(x[2])))]\\\n",
    "                         , axis=1, arr=userartists)"
   ]
  },
  {
   "cell_type": "code",
   "execution_count": 14,
   "metadata": {
    "collapsed": false
   },
   "outputs": [],
   "source": [
    "datafolder = datafolder+'/home/eliezer/datasets/hetrec2011/lastfm/transformed/'\n",
    "new_userartists_log = np.apply_along_axis( lambda x:[users_inv_id[x[0]],artists_inv_id[x[1]]\\\n",
    "                                                     ,int(np.ceil(np.log(x[2])))], axis=1, arr=userartists)\n",
    "np.savetxt(datafolder+\"v1_log_user_artists.dat\",new_userartists_log,delimiter='\\t')"
   ]
  },
  {
   "cell_type": "code",
   "execution_count": 138,
   "metadata": {
    "collapsed": false
   },
   "outputs": [],
   "source": [
    "datafolder = '/home/eliezer/datasets/hetrec2011/lastfm/transformed/'\n",
    "new_list_friends_id=np.array([ (i, item_i)  for i, item in enumerate(list_friends_id) for item_i in item])\n",
    "np.savetxt(datafolder+\"v1_user_friends.dat\",new_list_friends_id,delimiter='\\t',fmt='%i')"
   ]
  },
  {
   "cell_type": "code",
   "execution_count": 121,
   "metadata": {
    "collapsed": false
   },
   "outputs": [
    {
     "name": "stdout",
     "output_type": "stream",
     "text": [
      "train percentage =  80.0\n",
      "sampling training indices\n",
      "max_train_idx= 92833\n",
      "calculating testing indices\n",
      "max_test_idx= 92825\n",
      "build dense matrixes\n"
     ]
    }
   ],
   "source": [
    "datafolder = '/home/eliezer/datasets/hetrec2011/lastfm/'\n",
    "from load_convert import LoadModify\n",
    "loader=LoadModify(datafolder)\n",
    "loader.load()\n",
    "R = loader.mat_users_artists_train.T\n",
    "W = loader.mat_artists_tags\n",
    "S = loader.list_friends_id\n",
    "datafolder = '/home/eliezer/datasets/hetrec2011/lastfm/transformed/'"
   ]
  },
  {
   "cell_type": "code",
   "execution_count": 130,
   "metadata": {
    "collapsed": false
   },
   "outputs": [
    {
     "name": "stdout",
     "output_type": "stream",
     "text": [
      "(108437, 3)\n"
     ]
    },
    {
     "data": {
      "text/plain": [
       "array([  0, 138,   5])"
      ]
     },
     "execution_count": 130,
     "metadata": {},
     "output_type": "execute_result"
    }
   ],
   "source": [
    "W = np.array(loader.mat_artists_tags,dtype=int)\n",
    "print W.shape\n",
    "W[0]"
   ]
  },
  {
   "cell_type": "code",
   "execution_count": 131,
   "metadata": {
    "collapsed": false
   },
   "outputs": [
    {
     "data": {
      "text/plain": [
       "array([    0,    47, 11351])"
      ]
     },
     "execution_count": 131,
     "metadata": {},
     "output_type": "execute_result"
    }
   ],
   "source": [
    "loader.list_test[0]"
   ]
  },
  {
   "cell_type": "code",
   "execution_count": 132,
   "metadata": {
    "collapsed": false
   },
   "outputs": [
    {
     "data": {
      "text/plain": [
       "array([    0,    45, 13883])"
      ]
     },
     "execution_count": 132,
     "metadata": {},
     "output_type": "execute_result"
    }
   ],
   "source": [
    "loader.list_train[0]"
   ]
  },
  {
   "cell_type": "code",
   "execution_count": 141,
   "metadata": {
    "collapsed": false
   },
   "outputs": [
    {
     "name": "stdout",
     "output_type": "stream",
     "text": [
      "[257, 400, 482, 709, 772, 838, 1102, 1103, 1121, 1203, 1431, 1466, 1689]\n",
      "[257, 400, 482, 709, 772, 838, 1102, 1103, 1121, 1203, 1431, 1466, 1689]\n"
     ]
    }
   ],
   "source": [
    "print loader.list_friends_id[0]\n",
    "print list_friends_id[0]"
   ]
  },
  {
   "cell_type": "code",
   "execution_count": 79,
   "metadata": {
    "collapsed": false
   },
   "outputs": [],
   "source": [
    "#import pickle as pk\n",
    "#pk.dump(loader, open( loader.rootfolder+\"loader.pk\", \"wb\" ) )"
   ]
  },
  {
   "cell_type": "code",
   "execution_count": 11,
   "metadata": {
    "collapsed": false
   },
   "outputs": [
    {
     "data": {
      "text/plain": [
       "<module 'load_convert' from 'load_convert.pyc'>"
      ]
     },
     "execution_count": 11,
     "metadata": {},
     "output_type": "execute_result"
    }
   ],
   "source": [
    "import load_convert\n",
    "reload(load_convert)"
   ]
  },
  {
   "cell_type": "code",
   "execution_count": 137,
   "metadata": {
    "collapsed": false
   },
   "outputs": [],
   "source": [
    "datafolder = '/home/eliezer/datasets/hetrec2011/lastfm/transformed/'\n",
    "np.savetxt(datafolder+\"user_artist_rating.train\",loader.list_train,fmt='%i',delimiter='\\t')\n",
    "np.savetxt(datafolder+\"user_artist_rating.test\",loader.list_test,fmt='%i',delimiter='\\t')\n",
    "\n",
    "new_list_friends_id=np.array([ (i, item_i)  for i, item in enumerate(loader.list_friends_id) for item_i in item])\n",
    "np.savetxt(datafolder+\"v1_user_friends.dat\",new_list_friends_id,delimiter='\\t',fmt='%i')\n",
    "\n",
    "W = np.array(loader.mat_artists_tags,dtype=int)\n",
    "np.savetxt(datafolder+\"tag_artist_count.dat\",W,fmt='%i',delimiter='\\t')\n",
    "\n",
    "# keep a list with tags and index\n",
    "tags_id_name=np.array(zip([loader.tags_inv_id[x] for x in loader.tags_id],loader.generate_artists_tags(loader.tags_id)))\n",
    "pd.DataFrame(tags_id_name[:,1],index=tags_id_name[:,0],columns=['tag'])\\\n",
    ".to_csv(datafolder+\"tag_id_name.dat\",sep='\\t',header=False)"
   ]
  },
  {
   "cell_type": "code",
   "execution_count": 109,
   "metadata": {
    "collapsed": false
   },
   "outputs": [],
   "source": []
  },
  {
   "cell_type": "code",
   "execution_count": 110,
   "metadata": {
    "collapsed": false
   },
   "outputs": [],
   "source": [
    "\n",
    "#np.savetxt(datafolder+\"tag_id_name.dat\",tags_id_name,delimiter='\\t')"
   ]
  },
  {
   "cell_type": "code",
   "execution_count": 12,
   "metadata": {
    "collapsed": false
   },
   "outputs": [
    {
     "name": "stdout",
     "output_type": "stream",
     "text": [
      "train percentage =  80.0\n",
      "sampling training indices\n",
      "max_train_idx= 92833\n",
      "calculating testing indices\n",
      "max_test_idx= 92819\n",
      "build dense matrixes\n",
      "saving to /home/eliezer/Dropbox/repo-phd/poissoncpp/datasets/hetrec2011/lastfm/p80_train_test_4542/\n"
     ]
    }
   ],
   "source": [
    "datafolder = '/home/eliezer/Dropbox/repo-phd/poissoncpp/datasets/hetrec2011/lastfm/'\n",
    "from load_convert import LoadModify\n",
    "loader=LoadModify(datafolder)\n",
    "loader.load_save(0.8)\n",
    "#tag_id tag_name {tag_id_name.dat}\n",
    "# art_id tag_id tag_count {tag_artist_count.dat}\n",
    "# user_id art_id user_art_count {user_artist_rating.test  user_artist_rating.train}\n",
    "# user_id friend_id {v1_user_friends.dat}"
   ]
  },
  {
   "cell_type": "code",
   "execution_count": 160,
   "metadata": {
    "collapsed": false
   },
   "outputs": [
    {
     "name": "stdout",
     "output_type": "stream",
     "text": [
      "train percentage =  80.0\n",
      "sampling training indices\n",
      "max_train_idx= 92831\n",
      "calculating testing indices\n",
      "max_test_idx= 92833\n",
      "build dense matrixes\n",
      "saving to /home/eliezer/datasets/hetrec2011/lastfm/p85_train_test_834/\n"
     ]
    }
   ],
   "source": [
    "loader.load_save(0.80)\n",
    "#tag_id tag_name {tag_id_name.dat}\n",
    "# art_id tag_id tag_count {tag_artist_count.dat}\n",
    "# user_id art_id user_art_count {user_artist_rating.test  user_artist_rating.train}\n",
    "# user_id friend_id {v1_user_friends.dat}"
   ]
  },
  {
   "cell_type": "code",
   "execution_count": 3,
   "metadata": {
    "collapsed": true
   },
   "outputs": [],
   "source": [
    "userfriends = np.loadtxt(\"/home/eliezer/datasets/hetrec2011/lastfm/p85_train_test_9208/user_artist_rating.test\", delimiter='\\t',dtype=int)\n"
   ]
  },
  {
   "cell_type": "code",
   "execution_count": 7,
   "metadata": {
    "collapsed": false
   },
   "outputs": [
    {
     "data": {
      "text/plain": [
       "array([1185,  492,  135])"
      ]
     },
     "execution_count": 7,
     "metadata": {},
     "output_type": "execute_result"
    }
   ],
   "source": [
    "userfriends[11685]"
   ]
  },
  {
   "cell_type": "code",
   "execution_count": 9,
   "metadata": {
    "collapsed": false
   },
   "outputs": [
    {
     "data": {
      "text/plain": [
       "array([   0,    0,    0, ..., 1891, 1891, 1891])"
      ]
     },
     "execution_count": 9,
     "metadata": {},
     "output_type": "execute_result"
    }
   ],
   "source": [
    "userfriends[:,0]"
   ]
  },
  {
   "cell_type": "code",
   "execution_count": 13,
   "metadata": {
    "collapsed": false
   },
   "outputs": [
    {
     "name": "stdout",
     "output_type": "stream",
     "text": [
      "train percentage =  85.0\n",
      "sampling training indices\n",
      "max_train_idx= 92833\n",
      "calculating testing indices\n",
      "max_test_idx= 92832\n",
      "build dense matrixes\n",
      "saving to /home/eliezer/Dropbox/repo-phd/poissoncpp/datasets/hetrec2011/lastfm/p85_train_test_5912/\n"
     ]
    }
   ],
   "source": [
    "datafolder = '/home/eliezer/Dropbox/repo-phd/poissoncpp/datasets/hetrec2011/lastfm/'\n",
    "from load_convert import LoadModify\n",
    "loader=LoadModify(datafolder)\n",
    "loader.load_save(0.85)"
   ]
  },
  {
   "cell_type": "code",
   "execution_count": 29,
   "metadata": {
    "collapsed": false
   },
   "outputs": [
    {
     "name": "stdout",
     "output_type": "stream",
     "text": [
      "train percentage =  85.0\n",
      "sampling training indices\n",
      "max_train_idx= 92833\n",
      "calculating testing indices\n",
      "max_test_idx= 92832\n",
      "build dense matrixes\n",
      "saving to /home/eliezer/Dropbox/repo-phd/poissoncpp/datasets/hetrec2011/lastfm/p85_train_test_529/\n",
      "train percentage =  85.0\n",
      "sampling training indices\n",
      "max_train_idx= 92832\n",
      "calculating testing indices\n",
      "max_test_idx= 92833\n",
      "build dense matrixes\n",
      "saving to /home/eliezer/Dropbox/repo-phd/poissoncpp/datasets/hetrec2011/lastfm/p85_train_test_702/\n",
      "train percentage =  85.0\n",
      "sampling training indices\n",
      "max_train_idx= 92833\n",
      "calculating testing indices\n",
      "max_test_idx= 92832\n",
      "build dense matrixes\n",
      "saving to /home/eliezer/Dropbox/repo-phd/poissoncpp/datasets/hetrec2011/lastfm/p85_train_test_3586/\n",
      "train percentage =  85.0\n",
      "sampling training indices\n",
      "max_train_idx= 92833\n",
      "calculating testing indices\n",
      "max_test_idx= 92824\n",
      "build dense matrixes\n",
      "saving to /home/eliezer/Dropbox/repo-phd/poissoncpp/datasets/hetrec2011/lastfm/p85_train_test_7898/\n",
      "train percentage =  85.0\n",
      "sampling training indices\n",
      "max_train_idx= 92832\n",
      "calculating testing indices\n",
      "max_test_idx= 92833\n",
      "build dense matrixes\n",
      "saving to /home/eliezer/Dropbox/repo-phd/poissoncpp/datasets/hetrec2011/lastfm/p85_train_test_5035/\n",
      "train percentage =  85.0\n",
      "sampling training indices\n",
      "max_train_idx= 92832\n",
      "calculating testing indices\n",
      "max_test_idx= 92833\n",
      "build dense matrixes\n",
      "saving to /home/eliezer/Dropbox/repo-phd/poissoncpp/datasets/hetrec2011/lastfm/p85_train_test_6147/\n",
      "train percentage =  85.0\n",
      "sampling training indices\n",
      "max_train_idx= 92833\n",
      "calculating testing indices\n",
      "max_test_idx= 92818\n",
      "build dense matrixes\n",
      "saving to /home/eliezer/Dropbox/repo-phd/poissoncpp/datasets/hetrec2011/lastfm/p85_train_test_1395/\n",
      "train percentage =  85.0\n",
      "sampling training indices\n",
      "max_train_idx= 92833\n",
      "calculating testing indices\n",
      "max_test_idx= 92831\n",
      "build dense matrixes\n",
      "saving to /home/eliezer/Dropbox/repo-phd/poissoncpp/datasets/hetrec2011/lastfm/p85_train_test_3886/\n",
      "train percentage =  85.0\n",
      "sampling training indices\n",
      "max_train_idx= 92832\n",
      "calculating testing indices\n",
      "max_test_idx= 92833\n",
      "build dense matrixes\n",
      "saving to /home/eliezer/Dropbox/repo-phd/poissoncpp/datasets/hetrec2011/lastfm/p85_train_test_7436/\n",
      "train percentage =  85.0\n",
      "sampling training indices\n",
      "max_train_idx= 92833\n",
      "calculating testing indices\n",
      "max_test_idx= 92829\n",
      "build dense matrixes\n",
      "saving to /home/eliezer/Dropbox/repo-phd/poissoncpp/datasets/hetrec2011/lastfm/p85_train_test_8537/\n",
      "train percentage =  85.0\n",
      "sampling training indices\n",
      "max_train_idx= 92832\n",
      "calculating testing indices\n",
      "max_test_idx= 92833\n",
      "build dense matrixes\n",
      "saving to /home/eliezer/Dropbox/repo-phd/poissoncpp/datasets/hetrec2011/lastfm/p85_train_test_1087/\n",
      "train percentage =  85.0\n",
      "sampling training indices\n",
      "max_train_idx= 92832\n",
      "calculating testing indices\n",
      "max_test_idx= 92833\n",
      "build dense matrixes\n",
      "saving to /home/eliezer/Dropbox/repo-phd/poissoncpp/datasets/hetrec2011/lastfm/p85_train_test_8716/\n",
      "train percentage =  85.0\n",
      "sampling training indices\n",
      "max_train_idx= 92833\n",
      "calculating testing indices\n",
      "max_test_idx= 92829\n",
      "build dense matrixes\n",
      "saving to /home/eliezer/Dropbox/repo-phd/poissoncpp/datasets/hetrec2011/lastfm/p85_train_test_1800/\n",
      "train percentage =  85.0\n",
      "sampling training indices\n",
      "max_train_idx= 92833\n",
      "calculating testing indices\n",
      "max_test_idx= 92829\n",
      "build dense matrixes\n",
      "saving to /home/eliezer/Dropbox/repo-phd/poissoncpp/datasets/hetrec2011/lastfm/p85_train_test_582/\n",
      "train percentage =  85.0\n",
      "sampling training indices\n",
      "max_train_idx= 92833\n",
      "calculating testing indices\n",
      "max_test_idx= 92817\n",
      "build dense matrixes\n",
      "saving to /home/eliezer/Dropbox/repo-phd/poissoncpp/datasets/hetrec2011/lastfm/p85_train_test_1467/\n",
      "train percentage =  85.0\n",
      "sampling training indices\n",
      "max_train_idx= 92833\n",
      "calculating testing indices\n",
      "max_test_idx= 92831\n",
      "build dense matrixes\n",
      "saving to /home/eliezer/Dropbox/repo-phd/poissoncpp/datasets/hetrec2011/lastfm/p85_train_test_7762/\n",
      "train percentage =  85.0\n",
      "sampling training indices\n",
      "max_train_idx= 92833\n",
      "calculating testing indices\n",
      "max_test_idx= 92825\n",
      "build dense matrixes\n",
      "saving to /home/eliezer/Dropbox/repo-phd/poissoncpp/datasets/hetrec2011/lastfm/p85_train_test_2426/\n",
      "train percentage =  85.0\n",
      "sampling training indices\n",
      "max_train_idx= 92833\n",
      "calculating testing indices\n",
      "max_test_idx= 92831\n",
      "build dense matrixes\n",
      "saving to /home/eliezer/Dropbox/repo-phd/poissoncpp/datasets/hetrec2011/lastfm/p85_train_test_2931/\n",
      "train percentage =  85.0\n",
      "sampling training indices\n",
      "max_train_idx= 92833\n",
      "calculating testing indices\n",
      "max_test_idx= 92825\n",
      "build dense matrixes\n",
      "saving to /home/eliezer/Dropbox/repo-phd/poissoncpp/datasets/hetrec2011/lastfm/p85_train_test_4135/\n",
      "train percentage =  85.0\n",
      "sampling training indices\n",
      "max_train_idx= 92833\n",
      "calculating testing indices\n",
      "max_test_idx= 92825\n",
      "build dense matrixes\n",
      "saving to /home/eliezer/Dropbox/repo-phd/poissoncpp/datasets/hetrec2011/lastfm/p85_train_test_8629/\n",
      "train percentage =  85.0\n",
      "sampling training indices\n",
      "max_train_idx= 92833\n",
      "calculating testing indices\n",
      "max_test_idx= 92832\n",
      "build dense matrixes\n",
      "saving to /home/eliezer/Dropbox/repo-phd/poissoncpp/datasets/hetrec2011/lastfm/p85_train_test_146/\n",
      "train percentage =  85.0\n",
      "sampling training indices\n",
      "max_train_idx= 92833\n",
      "calculating testing indices\n",
      "max_test_idx= 92830\n",
      "build dense matrixes\n",
      "saving to /home/eliezer/Dropbox/repo-phd/poissoncpp/datasets/hetrec2011/lastfm/p85_train_test_222/\n",
      "train percentage =  85.0\n",
      "sampling training indices\n",
      "max_train_idx= 92831\n",
      "calculating testing indices\n",
      "max_test_idx= 92833\n",
      "build dense matrixes\n",
      "saving to /home/eliezer/Dropbox/repo-phd/poissoncpp/datasets/hetrec2011/lastfm/p85_train_test_2932/\n",
      "train percentage =  85.0\n",
      "sampling training indices\n",
      "max_train_idx= 92833\n",
      "calculating testing indices\n",
      "max_test_idx= 92832\n",
      "build dense matrixes\n",
      "saving to /home/eliezer/Dropbox/repo-phd/poissoncpp/datasets/hetrec2011/lastfm/p85_train_test_5950/\n",
      "train percentage =  85.0\n",
      "sampling training indices\n",
      "max_train_idx= 92833\n",
      "calculating testing indices\n",
      "max_test_idx= 92829\n",
      "build dense matrixes\n",
      "saving to /home/eliezer/Dropbox/repo-phd/poissoncpp/datasets/hetrec2011/lastfm/p85_train_test_5361/\n",
      "train percentage =  85.0\n",
      "sampling training indices\n",
      "max_train_idx= 92832\n",
      "calculating testing indices\n",
      "max_test_idx= 92833\n",
      "build dense matrixes\n",
      "saving to /home/eliezer/Dropbox/repo-phd/poissoncpp/datasets/hetrec2011/lastfm/p85_train_test_773/\n",
      "train percentage =  85.0\n",
      "sampling training indices\n",
      "max_train_idx= 92833\n",
      "calculating testing indices\n",
      "max_test_idx= 92831\n",
      "build dense matrixes\n",
      "saving to /home/eliezer/Dropbox/repo-phd/poissoncpp/datasets/hetrec2011/lastfm/p85_train_test_5762/\n",
      "train percentage =  85.0\n",
      "sampling training indices\n",
      "max_train_idx= 92833\n",
      "calculating testing indices\n",
      "max_test_idx= 92830\n",
      "build dense matrixes\n",
      "saving to /home/eliezer/Dropbox/repo-phd/poissoncpp/datasets/hetrec2011/lastfm/p85_train_test_2283/\n",
      "train percentage =  85.0\n",
      "sampling training indices\n",
      "max_train_idx= 92832\n",
      "calculating testing indices\n",
      "max_test_idx= 92833\n",
      "build dense matrixes\n",
      "saving to /home/eliezer/Dropbox/repo-phd/poissoncpp/datasets/hetrec2011/lastfm/p85_train_test_9534/\n",
      "train percentage =  85.0\n",
      "sampling training indices\n",
      "max_train_idx= 92833\n",
      "calculating testing indices\n",
      "max_test_idx= 92832\n",
      "build dense matrixes\n",
      "saving to /home/eliezer/Dropbox/repo-phd/poissoncpp/datasets/hetrec2011/lastfm/p85_train_test_7393/\n",
      "train percentage =  90.0\n",
      "sampling training indices\n",
      "max_train_idx= 92833\n",
      "calculating testing indices\n",
      "max_test_idx= 92826\n",
      "build dense matrixes\n",
      "saving to /home/eliezer/Dropbox/repo-phd/poissoncpp/datasets/hetrec2011/lastfm/p90_train_test_2623/\n",
      "train percentage =  90.0\n",
      "sampling training indices\n",
      "max_train_idx= 92833\n",
      "calculating testing indices\n",
      "max_test_idx= 92824\n",
      "build dense matrixes\n",
      "saving to /home/eliezer/Dropbox/repo-phd/poissoncpp/datasets/hetrec2011/lastfm/p90_train_test_521/\n",
      "train percentage =  90.0\n",
      "sampling training indices\n",
      "max_train_idx= 92833\n",
      "calculating testing indices\n",
      "max_test_idx= 92831\n",
      "build dense matrixes\n",
      "saving to /home/eliezer/Dropbox/repo-phd/poissoncpp/datasets/hetrec2011/lastfm/p90_train_test_4671/\n",
      "train percentage =  90.0\n",
      "sampling training indices\n",
      "max_train_idx= 92833\n",
      "calculating testing indices\n",
      "max_test_idx= 92826\n",
      "build dense matrixes\n",
      "saving to /home/eliezer/Dropbox/repo-phd/poissoncpp/datasets/hetrec2011/lastfm/p90_train_test_1757/\n",
      "train percentage =  90.0\n",
      "sampling training indices\n",
      "max_train_idx= 92833\n",
      "calculating testing indices\n",
      "max_test_idx= 92831\n",
      "build dense matrixes\n",
      "saving to /home/eliezer/Dropbox/repo-phd/poissoncpp/datasets/hetrec2011/lastfm/p90_train_test_5172/\n",
      "train percentage =  90.0\n",
      "sampling training indices\n",
      "max_train_idx= 92833\n",
      "calculating testing indices\n",
      "max_test_idx= 92825\n",
      "build dense matrixes\n",
      "saving to /home/eliezer/Dropbox/repo-phd/poissoncpp/datasets/hetrec2011/lastfm/p90_train_test_3400/\n",
      "train percentage =  90.0\n",
      "sampling training indices\n",
      "max_train_idx= 92833\n",
      "calculating testing indices\n",
      "max_test_idx= 92825\n",
      "build dense matrixes\n",
      "saving to /home/eliezer/Dropbox/repo-phd/poissoncpp/datasets/hetrec2011/lastfm/p90_train_test_7819/\n",
      "train percentage =  90.0\n",
      "sampling training indices\n",
      "max_train_idx= 92833\n",
      "calculating testing indices\n",
      "max_test_idx= 92826\n",
      "build dense matrixes\n",
      "saving to /home/eliezer/Dropbox/repo-phd/poissoncpp/datasets/hetrec2011/lastfm/p90_train_test_4682/\n",
      "train percentage =  90.0\n",
      "sampling training indices\n",
      "max_train_idx= 92833\n",
      "calculating testing indices\n",
      "max_test_idx= 92831\n",
      "build dense matrixes\n",
      "saving to /home/eliezer/Dropbox/repo-phd/poissoncpp/datasets/hetrec2011/lastfm/p90_train_test_1592/\n",
      "train percentage =  90.0\n",
      "sampling training indices\n",
      "max_train_idx= 92833\n",
      "calculating testing indices\n",
      "max_test_idx= 92832\n",
      "build dense matrixes\n",
      "saving to /home/eliezer/Dropbox/repo-phd/poissoncpp/datasets/hetrec2011/lastfm/p90_train_test_7345/\n",
      "train percentage =  90.0\n",
      "sampling training indices\n",
      "max_train_idx= 92833\n",
      "calculating testing indices\n",
      "max_test_idx= 92823\n",
      "build dense matrixes\n",
      "saving to /home/eliezer/Dropbox/repo-phd/poissoncpp/datasets/hetrec2011/lastfm/p90_train_test_7681/\n",
      "train percentage =  90.0\n",
      "sampling training indices\n",
      "max_train_idx= 92833\n",
      "calculating testing indices\n",
      "max_test_idx= 92815\n",
      "build dense matrixes\n",
      "saving to /home/eliezer/Dropbox/repo-phd/poissoncpp/datasets/hetrec2011/lastfm/p90_train_test_2886/\n",
      "train percentage =  90.0\n",
      "sampling training indices\n",
      "max_train_idx= 92833\n",
      "calculating testing indices\n",
      "max_test_idx= 92832\n",
      "build dense matrixes\n",
      "saving to /home/eliezer/Dropbox/repo-phd/poissoncpp/datasets/hetrec2011/lastfm/p90_train_test_4508/\n",
      "train percentage =  90.0\n",
      "sampling training indices\n",
      "max_train_idx= 92833\n",
      "calculating testing indices\n",
      "max_test_idx= 92800\n",
      "build dense matrixes\n",
      "saving to /home/eliezer/Dropbox/repo-phd/poissoncpp/datasets/hetrec2011/lastfm/p90_train_test_7003/\n",
      "train percentage =  90.0\n",
      "sampling training indices\n",
      "max_train_idx= 92832\n",
      "calculating testing indices\n",
      "max_test_idx= 92833\n",
      "build dense matrixes\n",
      "saving to /home/eliezer/Dropbox/repo-phd/poissoncpp/datasets/hetrec2011/lastfm/p90_train_test_5982/\n",
      "train percentage =  90.0\n",
      "sampling training indices\n",
      "max_train_idx= 92833\n",
      "calculating testing indices\n",
      "max_test_idx= 92819\n",
      "build dense matrixes\n",
      "saving to /home/eliezer/Dropbox/repo-phd/poissoncpp/datasets/hetrec2011/lastfm/p90_train_test_7762/\n",
      "train percentage =  90.0\n",
      "sampling training indices\n",
      "max_train_idx= 92833\n",
      "calculating testing indices\n",
      "max_test_idx= 92827\n",
      "build dense matrixes\n",
      "saving to /home/eliezer/Dropbox/repo-phd/poissoncpp/datasets/hetrec2011/lastfm/p90_train_test_7559/\n",
      "train percentage =  90.0\n",
      "sampling training indices\n",
      "max_train_idx= 92833\n",
      "calculating testing indices\n",
      "max_test_idx= 92827\n",
      "build dense matrixes\n",
      "saving to /home/eliezer/Dropbox/repo-phd/poissoncpp/datasets/hetrec2011/lastfm/p90_train_test_7955/\n",
      "train percentage =  90.0\n",
      "sampling training indices\n",
      "max_train_idx= 92833\n",
      "calculating testing indices\n",
      "max_test_idx= 92824\n",
      "build dense matrixes\n",
      "saving to /home/eliezer/Dropbox/repo-phd/poissoncpp/datasets/hetrec2011/lastfm/p90_train_test_7230/\n",
      "train percentage =  90.0\n",
      "sampling training indices\n",
      "max_train_idx= 92832\n",
      "calculating testing indices\n",
      "max_test_idx= 92833\n",
      "build dense matrixes\n",
      "saving to /home/eliezer/Dropbox/repo-phd/poissoncpp/datasets/hetrec2011/lastfm/p90_train_test_4563/\n",
      "train percentage =  90.0\n",
      "sampling training indices\n",
      "max_train_idx= 92833\n",
      "calculating testing indices\n",
      "max_test_idx= 92829\n",
      "build dense matrixes\n",
      "saving to /home/eliezer/Dropbox/repo-phd/poissoncpp/datasets/hetrec2011/lastfm/p90_train_test_9059/\n",
      "train percentage =  90.0\n",
      "sampling training indices\n",
      "max_train_idx= 92833\n",
      "calculating testing indices\n",
      "max_test_idx= 92823\n",
      "build dense matrixes\n",
      "saving to /home/eliezer/Dropbox/repo-phd/poissoncpp/datasets/hetrec2011/lastfm/p90_train_test_2245/\n",
      "train percentage =  90.0\n",
      "sampling training indices\n",
      "max_train_idx= 92833\n",
      "calculating testing indices\n",
      "max_test_idx= 92827\n",
      "build dense matrixes\n",
      "saving to /home/eliezer/Dropbox/repo-phd/poissoncpp/datasets/hetrec2011/lastfm/p90_train_test_3330/\n",
      "train percentage =  90.0\n",
      "sampling training indices\n",
      "max_train_idx= 92833\n",
      "calculating testing indices\n",
      "max_test_idx= 92832\n",
      "build dense matrixes\n",
      "saving to /home/eliezer/Dropbox/repo-phd/poissoncpp/datasets/hetrec2011/lastfm/p90_train_test_8926/\n",
      "train percentage =  90.0\n",
      "sampling training indices\n",
      "max_train_idx= 92833\n",
      "calculating testing indices\n",
      "max_test_idx= 92831\n",
      "build dense matrixes\n",
      "saving to /home/eliezer/Dropbox/repo-phd/poissoncpp/datasets/hetrec2011/lastfm/p90_train_test_9417/\n",
      "train percentage =  90.0\n",
      "sampling training indices\n",
      "max_train_idx= 92833\n",
      "calculating testing indices\n",
      "max_test_idx= 92831\n",
      "build dense matrixes\n",
      "saving to /home/eliezer/Dropbox/repo-phd/poissoncpp/datasets/hetrec2011/lastfm/p90_train_test_4052/\n",
      "train percentage =  90.0\n",
      "sampling training indices\n",
      "max_train_idx= 92833\n",
      "calculating testing indices\n",
      "max_test_idx= 92831\n",
      "build dense matrixes\n",
      "saving to /home/eliezer/Dropbox/repo-phd/poissoncpp/datasets/hetrec2011/lastfm/p90_train_test_8645/\n",
      "train percentage =  90.0\n",
      "sampling training indices\n",
      "max_train_idx= 92833\n",
      "calculating testing indices\n",
      "max_test_idx= 92825\n",
      "build dense matrixes\n",
      "saving to /home/eliezer/Dropbox/repo-phd/poissoncpp/datasets/hetrec2011/lastfm/p90_train_test_5311/\n",
      "train percentage =  90.0\n",
      "sampling training indices\n",
      "max_train_idx= 92833\n",
      "calculating testing indices\n",
      "max_test_idx= 92826\n",
      "build dense matrixes\n",
      "saving to /home/eliezer/Dropbox/repo-phd/poissoncpp/datasets/hetrec2011/lastfm/p90_train_test_7599/\n",
      "train percentage =  90.0\n",
      "sampling training indices\n",
      "max_train_idx= 92833\n",
      "calculating testing indices\n",
      "max_test_idx= 92828\n",
      "build dense matrixes\n",
      "saving to /home/eliezer/Dropbox/repo-phd/poissoncpp/datasets/hetrec2011/lastfm/p90_train_test_800/\n"
     ]
    }
   ],
   "source": [
    "for x in range(30):\n",
    "    datafolder = '/home/eliezer/Dropbox/repo-phd/poissoncpp/datasets/hetrec2011/lastfm/'\n",
    "    loader=LoadModify(datafolder)\n",
    "    loader.load_save(0.85)\n",
    "for x in range(30):\n",
    "    datafolder = '/home/eliezer/Dropbox/repo-phd/poissoncpp/datasets/hetrec2011/lastfm/'\n",
    "    loader=LoadModify(datafolder)\n",
    "    loader.load_save(0.90)"
   ]
  },
  {
   "cell_type": "code",
   "execution_count": 15,
   "metadata": {
    "collapsed": true
   },
   "outputs": [],
   "source": [
    "import numpy as np"
   ]
  },
  {
   "cell_type": "code",
   "execution_count": 28,
   "metadata": {
    "collapsed": false
   },
   "outputs": [
    {
     "name": "stdout",
     "output_type": "stream",
     "text": [
      "p80_train_test_5821/\n",
      "p80_train_test_1235/\n",
      "p80_train_test_7437/\n",
      "p80_train_test_5776/\n",
      "p80_train_test_5859/\n",
      "p80_train_test_2158/\n",
      "p80_train_test_4578/\n",
      "p80_train_test_43/\n",
      "p80_train_test_8667/\n",
      "p80_train_test_9375/\n"
     ]
    }
   ],
   "source": [
    "for x in range(10):\n",
    "    print \"p\"+str(int(0.8*100))+\"_train_test_\"+str(np.random.randint(10000))+'/'"
   ]
  },
  {
   "cell_type": "code",
   "execution_count": 32,
   "metadata": {
    "collapsed": false
   },
   "outputs": [
    {
     "name": "stdout",
     "output_type": "stream",
     "text": [
      "artists.dat\t     p85_train_test_702   p90_train_test_5172\r\n",
      "p80_train_test_4542  p85_train_test_7393  p90_train_test_521\r\n",
      "p80_train_test_4613  p85_train_test_7436  p90_train_test_5311\r\n",
      "p85_train_test_1087  p85_train_test_773   p90_train_test_5982\r\n",
      "p85_train_test_1395  p85_train_test_7762  p90_train_test_7003\r\n",
      "p85_train_test_146   p85_train_test_7898  p90_train_test_7230\r\n",
      "p85_train_test_1467  p85_train_test_834   p90_train_test_7345\r\n",
      "p85_train_test_1800  p85_train_test_8537  p90_train_test_7559\r\n",
      "p85_train_test_222   p85_train_test_8629  p90_train_test_7599\r\n",
      "p85_train_test_2283  p85_train_test_8716  p90_train_test_7681\r\n",
      "p85_train_test_2426  p85_train_test_9208  p90_train_test_7762\r\n",
      "p85_train_test_2931  p85_train_test_9534  p90_train_test_7819\r\n",
      "p85_train_test_2932  p90_train_test_1592  p90_train_test_7955\r\n",
      "p85_train_test_3586  p90_train_test_1757  p90_train_test_800\r\n",
      "p85_train_test_3886  p90_train_test_2245  p90_train_test_8645\r\n",
      "p85_train_test_4135  p90_train_test_2623  p90_train_test_8926\r\n",
      "p85_train_test_5035  p90_train_test_2886  p90_train_test_9059\r\n",
      "p85_train_test_529   p90_train_test_3330  p90_train_test_9417\r\n",
      "p85_train_test_5361  p90_train_test_3400  readme.txt\r\n",
      "p85_train_test_5762  p90_train_test_4052  tags.dat\r\n",
      "p85_train_test_582   p90_train_test_4508  user_artists.dat\r\n",
      "p85_train_test_5912  p90_train_test_4563  user_friends.dat\r\n",
      "p85_train_test_5950  p90_train_test_4671  user_taggedartists.dat\r\n",
      "p85_train_test_6147  p90_train_test_4682  user_taggedartists-timestamps.dat\r\n"
     ]
    }
   ],
   "source": [
    "!ls /home/eliezer/Dropbox/repo-phd/poissoncpp/datasets/hetrec2011/lastfm"
   ]
  },
  {
   "cell_type": "code",
   "execution_count": 35,
   "metadata": {
    "collapsed": true
   },
   "outputs": [],
   "source": []
  },
  {
   "cell_type": "code",
   "execution_count": null,
   "metadata": {
    "collapsed": false
   },
   "outputs": [],
   "source": []
  },
  {
   "cell_type": "code",
   "execution_count": 54,
   "metadata": {
    "collapsed": false
   },
   "outputs": [
    {
     "data": {
      "text/plain": [
       "[]"
      ]
     },
     "execution_count": 54,
     "metadata": {},
     "output_type": "execute_result"
    }
   ],
   "source": []
  },
  {
   "cell_type": "code",
   "execution_count": null,
   "metadata": {
    "collapsed": true
   },
   "outputs": [],
   "source": []
  }
 ],
 "metadata": {
  "kernelspec": {
   "display_name": "Python 2",
   "language": "python",
   "name": "python2"
  },
  "language_info": {
   "codemirror_mode": {
    "name": "ipython",
    "version": 2
   },
   "file_extension": ".py",
   "mimetype": "text/x-python",
   "name": "python",
   "nbconvert_exporter": "python",
   "pygments_lexer": "ipython2",
   "version": "2.7.6"
  }
 },
 "nbformat": 4,
 "nbformat_minor": 1
}
